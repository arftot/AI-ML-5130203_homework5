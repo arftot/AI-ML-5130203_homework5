{
 "cells": [
  {
   "cell_type": "markdown",
   "id": "1f43db04-250d-46ed-9328-c7f1d2316ee2",
   "metadata": {},
   "source": [
    "# PERCEPTRON MODEL"
   ]
  },
  {
   "cell_type": "markdown",
   "id": "a31616d1-90aa-45dd-ae20-c2ec1d979907",
   "metadata": {},
   "source": [
    "* Class 0 (later -1): This subtype is characterized by 'feature 1' values uniformly distributed between 0 and 3, and 'feature 2' values also uniformly distributed between 0 and 3.\n",
    "\n",
    "* Class 1: This subtype is characterized by 'feature 1' values uniformly distributed between 4 and 7, and 'feature 2' values also uniformly distributed between 4 and 7."
   ]
  },
  {
   "cell_type": "markdown",
   "id": "80babaec-2ff5-4da0-9ce3-e973dcadce80",
   "metadata": {},
   "source": [
    "## 1) Implementation of Perceptron Algorithm"
   ]
  },
  {
   "cell_type": "code",
   "execution_count": 341,
   "id": "0771a0a2-614e-4e37-a4b9-0a5554131b0a",
   "metadata": {},
   "outputs": [],
   "source": [
    "# import packages\n",
    "import numpy as np\n",
    "import pandas as pd\n",
    "import matplotlib.pyplot as plt"
   ]
  },
  {
   "cell_type": "code",
   "execution_count": 342,
   "id": "03ad9fa3-2b16-41a9-830d-b6a89873c675",
   "metadata": {},
   "outputs": [],
   "source": [
    "class Perceptron:\n",
    "    def __init__(self, eta = 0.01, n_iter = 10):\n",
    "        self.eta = eta\n",
    "        self.n_iter = n_iter\n",
    "    \n",
    "    # make random initialization of vector of weights\n",
    "    def inicialize_weights(self, x):        \n",
    "        self.w_ = np.random.uniform(low = -0.5, high = 0.5, size = x.shape[1] + 1)\n",
    "        self.errors_ = []\n",
    "    \n",
    "    # linear combination\n",
    "    def input_net(self, x):\n",
    "        return np.dot(x, self.w_[1:]) + self.w_[0]\n",
    "    \n",
    "    # apply activation function to predict\n",
    "    def predict(self, x):\n",
    "        return np.where(self.input_net(x)>=0, 1, -1)\n",
    "\n",
    "    # process of training\n",
    "    def fit(self, x, y):\n",
    "        self.inicialize_weights(x)\n",
    "        # iterative process by epochs\n",
    "        for _ in range(self.n_iter):\n",
    "            error = 0    # accumulative error by iteration\n",
    "            for xi, yi in zip(x, y):\n",
    "                y_hat = self.predict(xi)\n",
    "                delta_w = self.eta * (yi - y_hat)\n",
    "                self.w_[0] += delta_w\n",
    "                self.w_[1:] += delta_w * xi\n",
    "\n",
    "                if delta_w != 0:\n",
    "                    error += 1\n",
    "            self.errors_.append(error)\n",
    "\n",
    "\n",
    "    # function to make iterative process of test\n",
    "    def test(self, x_test, y_test):\n",
    "        n = x_test.shape[0]\n",
    "        self.accuracy = 0 \n",
    "        y_pred = list()\n",
    "        \n",
    "        for i in range(n):\n",
    "            xi = x_test[i, :]\n",
    "            yi = y_test[i]\n",
    "            y_pred.append(self.predict(xi))\n",
    "\n",
    "            # verify correct classification            \n",
    "            if y_pred[i] == yi:\n",
    "                self.accuracy = self.accuracy + 1\n",
    "        \n",
    "        # calculate accuracy\n",
    "        self.accuracy = 100 * round(self.accuracy/n, 5)\n",
    "        \n",
    "        return y_pred"
   ]
  },
  {
   "cell_type": "markdown",
   "id": "afb8403f-30f5-47bf-9918-a7f6b6c850bd",
   "metadata": {},
   "source": [
    "## 2) Preprocessing"
   ]
  },
  {
   "cell_type": "code",
   "execution_count": 343,
   "id": "3a7a39c4-d226-414d-81dc-745c7c01fe2a",
   "metadata": {},
   "outputs": [
    {
     "data": {
      "text/html": [
       "<div>\n",
       "<style scoped>\n",
       "    .dataframe tbody tr th:only-of-type {\n",
       "        vertical-align: middle;\n",
       "    }\n",
       "\n",
       "    .dataframe tbody tr th {\n",
       "        vertical-align: top;\n",
       "    }\n",
       "\n",
       "    .dataframe thead th {\n",
       "        text-align: right;\n",
       "    }\n",
       "</style>\n",
       "<table border=\"1\" class=\"dataframe\">\n",
       "  <thead>\n",
       "    <tr style=\"text-align: right;\">\n",
       "      <th></th>\n",
       "      <th>feature 1</th>\n",
       "      <th>feature 2</th>\n",
       "      <th>class</th>\n",
       "    </tr>\n",
       "  </thead>\n",
       "  <tbody>\n",
       "    <tr>\n",
       "      <th>0</th>\n",
       "      <td>4.960718</td>\n",
       "      <td>6.212893</td>\n",
       "      <td>1</td>\n",
       "    </tr>\n",
       "    <tr>\n",
       "      <th>1</th>\n",
       "      <td>1.242211</td>\n",
       "      <td>0.706613</td>\n",
       "      <td>0</td>\n",
       "    </tr>\n",
       "    <tr>\n",
       "      <th>2</th>\n",
       "      <td>4.537162</td>\n",
       "      <td>4.862999</td>\n",
       "      <td>1</td>\n",
       "    </tr>\n",
       "    <tr>\n",
       "      <th>3</th>\n",
       "      <td>5.659336</td>\n",
       "      <td>5.999297</td>\n",
       "      <td>1</td>\n",
       "    </tr>\n",
       "    <tr>\n",
       "      <th>4</th>\n",
       "      <td>4.694133</td>\n",
       "      <td>6.713496</td>\n",
       "      <td>1</td>\n",
       "    </tr>\n",
       "  </tbody>\n",
       "</table>\n",
       "</div>"
      ],
      "text/plain": [
       "   feature 1  feature 2  class\n",
       "0   4.960718   6.212893      1\n",
       "1   1.242211   0.706613      0\n",
       "2   4.537162   4.862999      1\n",
       "3   5.659336   5.999297      1\n",
       "4   4.694133   6.713496      1"
      ]
     },
     "execution_count": 343,
     "metadata": {},
     "output_type": "execute_result"
    }
   ],
   "source": [
    "# load dataset\n",
    "dataset = pd.read_csv(\"datasets/linearly_separable_data.csv\", header = 0)\n",
    "dataset.head()"
   ]
  },
  {
   "cell_type": "code",
   "execution_count": 344,
   "id": "66004772-244c-4262-a971-c6f277bc32bc",
   "metadata": {},
   "outputs": [
    {
     "name": "stdout",
     "output_type": "stream",
     "text": [
      "feature 1    0.891996\n",
      "feature 2    0.900890\n",
      "dtype: float64\n",
      "Selected features: ['feature 1', 'feature 2']\n"
     ]
    }
   ],
   "source": [
    "dataset_y = dataset['class']\n",
    "dataset_x = dataset.drop('class', axis=1)\n",
    "# Calculating correlations\n",
    "correlations = dataset_x.corrwith(dataset_y).abs()\n",
    "print(correlations)\n",
    "\n",
    "# Choosing the features with the highest correlation\n",
    "significant_features = correlations[correlations > 0.75].index.tolist()\n",
    "print(f\"Selected features: {significant_features}\")"
   ]
  },
  {
   "cell_type": "code",
   "execution_count": 399,
   "id": "1134ccf1-f761-4f23-9383-b06971a1d09b",
   "metadata": {},
   "outputs": [],
   "source": [
    "# split independent and dependent variables\n",
    "x = dataset.loc[600:700, significant_features].values\n",
    "y = dataset_y.loc[600:700].values"
   ]
  },
  {
   "cell_type": "code",
   "execution_count": 400,
   "id": "445309a3-fae0-4313-94a0-67a744ba55e4",
   "metadata": {},
   "outputs": [
    {
     "data": {
      "text/plain": [
       "array([[ 3.93316197,  5.97995251],\n",
       "       [-0.05117811,  2.91283991],\n",
       "       [ 0.71669045,  1.76151849],\n",
       "       [ 1.2781786 ,  2.09819986],\n",
       "       [ 3.52313734,  2.61888863]])"
      ]
     },
     "execution_count": 400,
     "metadata": {},
     "output_type": "execute_result"
    }
   ],
   "source": [
    "x[:5]"
   ]
  },
  {
   "cell_type": "code",
   "execution_count": 401,
   "id": "ff444729-b240-43ee-8d59-a4ac337b829e",
   "metadata": {},
   "outputs": [
    {
     "data": {
      "text/plain": [
       "array([ 1, -1, -1, -1, -1,  1,  1,  1, -1, -1,  1,  1,  1,  1, -1,  1, -1,\n",
       "       -1,  1, -1, -1, -1,  1, -1, -1, -1,  1, -1,  1,  1, -1, -1, -1, -1,\n",
       "        1,  1,  1, -1,  1, -1, -1,  1,  1, -1, -1,  1,  1,  1,  1,  1,  1,\n",
       "        1, -1, -1,  1,  1, -1,  1, -1,  1, -1, -1, -1, -1, -1,  1,  1, -1,\n",
       "        1, -1, -1,  1, -1, -1, -1,  1,  1, -1,  1,  1,  1,  1, -1, -1,  1,\n",
       "        1,  1,  1,  1,  1,  1,  1,  1,  1,  1,  1, -1, -1, -1, -1,  1])"
      ]
     },
     "execution_count": 401,
     "metadata": {},
     "output_type": "execute_result"
    }
   ],
   "source": [
    "y = np.where(y == 1, 1, -1)\n",
    "y"
   ]
  },
  {
   "cell_type": "markdown",
   "id": "8f8f5b0f-72bb-44e4-9578-a64a4bb81b41",
   "metadata": {},
   "source": [
    "## 3) Training step"
   ]
  },
  {
   "cell_type": "code",
   "execution_count": 402,
   "id": "6ca40a62-41a7-4088-b82d-f15017653391",
   "metadata": {},
   "outputs": [],
   "source": [
    "# training process\n",
    "model = Perceptron(eta = 0.1, n_iter = 10)\n",
    "model.fit(x, y)"
   ]
  },
  {
   "cell_type": "code",
   "execution_count": 403,
   "id": "d48bf0a8-5144-4070-bea5-1f2aaca179bc",
   "metadata": {},
   "outputs": [
    {
     "data": {
      "image/png": "[encoded data removed]",
      "text/plain": [
       "<Figure size 640x480 with 1 Axes>"
      ]
     },
     "metadata": {},
     "output_type": "display_data"
    }
   ],
   "source": [
    "# plot results of training\n",
    "plt.plot(range(1, len(model.errors_)+1), model.errors_, marker = 'o', label = \"misclassifications\")\n",
    "plt.title(\"Performance of Perceptron Model\")\n",
    "plt.xlabel(\"#epochs\")\n",
    "plt.ylabel(\"#misclassifications\")\n",
    "plt.legend(loc = \"upper right\")\n",
    "plt.show()"
   ]
  },
  {
   "cell_type": "code",
   "execution_count": 404,
   "id": "6ea5e828-8b31-413f-a84b-3dff8399bed8",
   "metadata": {},
   "outputs": [],
   "source": [
    "from matplotlib.colors import ListedColormap\n",
    "\n",
    "# plot the decision region of perceptron\n",
    "def plot_decision_regions(x, y, classifier, resolution = 0.01):\n",
    "    markers = ('s', 'x', 'o', '^', 'v')\n",
    "    colors = ('red', 'blue', 'lightgreen', 'gray', 'cyan')\n",
    "    cmap = ListedColormap(colors[:len(np.unique(y))])\n",
    "    \n",
    "    x1_min, x1_max = x[:, 0].min() - 1, x[:, 0].max() + 1\n",
    "    x2_min, x2_max = x[:, 1].min() - 1, x[:, 1].max() + 1\n",
    "    xx1, xx2 = np.meshgrid(np.arange(x1_min, x1_max, resolution), \n",
    "                          np.arange(x2_min, x2_max, resolution))\n",
    "    z = classifier.predict(np.array([xx1.ravel(), xx2.ravel()]).T)\n",
    "    z = z.reshape(xx1.shape)\n",
    "    plt.contourf(xx1, xx2, z, alpha = 0.5, cmap = cmap)                                        \n",
    "    plt.xlim(xx1.min(), xx1.max())                                        \n",
    "    plt.ylim(xx2.min(), xx2.max())\n",
    "    \n",
    "    for idx, classe in enumerate(np.unique(y)):\n",
    "        plt.scatter(x[y == classe, 0], x[y == classe, 1], alpha = 0.8, \n",
    "                    color = cmap(idx), marker = markers[idx], label = classe) "
   ]
  },
  {
   "cell_type": "code",
   "execution_count": 405,
   "id": "445ecae5-4255-4e23-974c-3ea03a32810f",
   "metadata": {},
   "outputs": [
    {
     "data": {
      "image/png": "[encoded data removed]",
      "text/plain": [
       "<Figure size 640x480 with 1 Axes>"
      ]
     },
     "metadata": {},
     "output_type": "display_data"
    }
   ],
   "source": [
    "plot_decision_regions(x, y, model)\n",
    "plt.xlabel('sepal-length [cm]')\n",
    "plt.ylabel('petal-length [cm]')\n",
    "plt.legend(loc = 'upper left')\n",
    "plt.title('Decision boundary of Perceptron')\n",
    "plt.show()"
   ]
  },
  {
   "cell_type": "markdown",
   "id": "96c10b28-0fd2-4129-9fb1-a5ddab0a89d8",
   "metadata": {},
   "source": [
    "## 4) Explicit the model"
   ]
  },
  {
   "cell_type": "code",
   "execution_count": 406,
   "id": "5def5993-1e4a-4897-a152-99d8868454ff",
   "metadata": {},
   "outputs": [
    {
     "data": {
      "text/plain": [
       "array([-4.98338961,  0.77623118,  0.66155308])"
      ]
     },
     "execution_count": 406,
     "metadata": {},
     "output_type": "execute_result"
    }
   ],
   "source": [
    "model.w_"
   ]
  },
  {
   "cell_type": "code",
   "execution_count": 407,
   "id": "8ec78ca6-7d2b-446b-84ac-4116493646d2",
   "metadata": {},
   "outputs": [
    {
     "name": "stdout",
     "output_type": "stream",
     "text": [
      "Percetron classifier model: \n",
      "iris_specie = -4.9834 + 0.7762 * feature_1 + 0.6616 * feature_2\n"
     ]
    }
   ],
   "source": [
    "print(\"Percetron classifier model: \")\n",
    "print(f\"iris_specie = {model.w_[0]:.4f} + {model.w_[1]:.4f} * feature_1 + {model.w_[2]:.4f} * feature_2\")"
   ]
  },
  {
   "cell_type": "code",
   "execution_count": 408,
   "id": "27cd07d4-2d5c-4804-856b-b8cf47101be3",
   "metadata": {},
   "outputs": [
    {
     "name": "stdout",
     "output_type": "stream",
     "text": [
      "class =  1\n"
     ]
    }
   ],
   "source": [
    "new_point = np.array([5.0, 6.21312])\n",
    "pred = model.predict(new_point)\n",
    "print(\"class = \", pred)"
   ]
  },
  {
   "cell_type": "code",
   "execution_count": 409,
   "id": "cdae71d6-6d72-437f-91cd-7a7b55871378",
   "metadata": {},
   "outputs": [
    {
     "name": "stdout",
     "output_type": "stream",
     "text": [
      "class =  1\n"
     ]
    }
   ],
   "source": [
    "new_point2 = np.array([2.0, 0.212])\n",
    "pred2 = model.predict(new_point2)\n",
    "print(\"class = \", pred)"
   ]
  },
  {
   "cell_type": "code",
   "execution_count": 410,
   "id": "3254330a-4e0c-45c4-b7d3-1490a1d6e042",
   "metadata": {},
   "outputs": [],
   "source": [
    "x_t = dataset.loc[101:200, significant_features].values\n",
    "y_t = dataset_y.loc[101:200].values"
   ]
  },
  {
   "cell_type": "code",
   "execution_count": 411,
   "id": "45b0d54e-6762-4a17-9e02-d08225d2b2a4",
   "metadata": {},
   "outputs": [],
   "source": [
    "y_t = np.where(y == 1, 1, -1)"
   ]
  },
  {
   "cell_type": "code",
   "execution_count": 412,
   "id": "fe5c8cd9-e919-43ff-8093-673e45942011",
   "metadata": {},
   "outputs": [
    {
     "name": "stdout",
     "output_type": "stream",
     "text": [
      "Accuracy =  45.0 %\n"
     ]
    }
   ],
   "source": [
    "# make test\n",
    "model.test(x_t, y_t)\n",
    "print(\"Accuracy = \", model.accuracy, \"%\")"
   ]
  },
  {
   "cell_type": "code",
   "execution_count": null,
   "id": "bdeae4db-fc4e-4cbf-a21b-4846b3c7fe2f",
   "metadata": {},
   "outputs": [],
   "source": []
  },
  {
   "cell_type": "code",
   "execution_count": null,
   "id": "50cd15cb-2ab0-4bf4-be51-f774056cb051",
   "metadata": {},
   "outputs": [],
   "source": []
  },
  {
   "cell_type": "code",
   "execution_count": null,
   "id": "7e5c08fb-76b1-4264-83e1-2ee7691dda11",
   "metadata": {},
   "outputs": [],
   "source": []
  }
 ],
 "metadata": {
  "kernelspec": {
   "display_name": "Python 3 (ipykernel)",
   "language": "python",
   "name": "python3"
  },
  "language_info": {
   "codemirror_mode": {
    "name": "ipython",
    "version": 3
   },
   "file_extension": ".py",
   "mimetype": "text/x-python",
   "name": "python",
   "nbconvert_exporter": "python",
   "pygments_lexer": "ipython3",
   "version": "3.11.6"
  }
 },
 "nbformat": 4,
 "nbformat_minor": 5
}
